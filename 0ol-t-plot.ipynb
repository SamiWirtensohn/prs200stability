{
 "cells": [
  {
   "cell_type": "code",
   "execution_count": 1,
   "metadata": {},
   "outputs": [],
   "source": [
    "import matplotlib.pyplot as plt\n",
    "import csv\n",
    "import numpy as np\n",
    "from scipy.optimize import curve_fit"
   ]
  },
  {
   "cell_type": "code",
   "execution_count": 2,
   "metadata": {},
   "outputs": [],
   "source": [
    "data = np.loadtxt('0ol-t.txt', delimiter='\\t')\n",
    "\n",
    "x = data[:,5]\n",
    "y1 = data[:,2]\n",
    "y2 = data[:,4]"
   ]
  },
  {
   "cell_type": "code",
   "execution_count": 3,
   "metadata": {},
   "outputs": [
    {
     "data": {
      "text/plain": [
       "(array([ 0.02490494, -0.03777921]), 0.02490493580643429, -0.03777920819059126)"
      ]
     },
     "execution_count": 3,
     "metadata": {},
     "output_type": "execute_result"
    }
   ],
   "source": [
    "def func(x, m, t):\n",
    "    return m * x + t\n",
    "\n",
    "popt, pcov = curve_fit(func, x, y1)\n",
    "mA = popt[0]\n",
    "tA = popt[1]\n",
    "popt, mA, tA\n",
    "\n",
    "#plt.plot(x, func(x, *popt), 'r-', label='fit')"
   ]
  },
  {
   "cell_type": "code",
   "execution_count": 4,
   "metadata": {},
   "outputs": [
    {
     "data": {
      "text/plain": [
       "(array([ 0.00612611, -0.00936083]),\n",
       " 0.006126113043718924,\n",
       " -0.009360826828483344)"
      ]
     },
     "execution_count": 4,
     "metadata": {},
     "output_type": "execute_result"
    }
   ],
   "source": [
    "popt2, pcov2 = curve_fit(func, x, y2)\n",
    "mP = popt2[0]\n",
    "tP = popt2[1]\n",
    "popt2, mP, tP"
   ]
  },
  {
   "cell_type": "code",
   "execution_count": 5,
   "metadata": {},
   "outputs": [],
   "source": [
    "data = np.loadtxt('unabh.txt', delimiter='\\t')\n",
    "\n",
    "xt = data[:,0]\n",
    "zt = data[:,2]\n",
    "yt = data[:,4]"
   ]
  },
  {
   "cell_type": "code",
   "execution_count": 6,
   "metadata": {},
   "outputs": [
    {
     "data": {
      "text/plain": [
       "(array([ 0.02486858, -0.11778154]), 0.024868580507879535, -0.11778154050681008)"
      ]
     },
     "execution_count": 6,
     "metadata": {},
     "output_type": "execute_result"
    }
   ],
   "source": [
    "poptU, pcovU = curve_fit(func, xt, zt)\n",
    "mT = poptU[0]\n",
    "tT = poptU[1]\n",
    "poptU, mT, tT"
   ]
  },
  {
   "cell_type": "code",
   "execution_count": 7,
   "metadata": {},
   "outputs": [
    {
     "data": {
      "image/png": "[encoded data removed]",
      "text/plain": [
       "<Figure size 432x288 with 1 Axes>"
      ]
     },
     "metadata": {
      "needs_background": "light"
     },
     "output_type": "display_data"
    }
   ],
   "source": [
    "plt.plot(x, y1, '.', label= 'Autokollimator')\n",
    "plt.plot(x, y2, '.', label= 'Pollux')\n",
    "plt.plot(x, func(x, *popt), 'r-', label='fit_Autokoll')\n",
    "plt.plot(x, func(x, *popt2), 'g-', label='fit2')\n",
    "plt.plot(x, func(x, (mA-mT), tA), 'k', label='fit_Autokoll_korrigiert')\n",
    "plt.title('0 Nm Open Loop')\n",
    "plt.xlabel('Zeit[min]')\n",
    "plt.ylabel('Bogensekunden')\n",
    "plt.legend()\n",
    "#plt.savefig('0ol-t.png', dpi = 300)\n",
    "plt.show()"
   ]
  },
  {
   "cell_type": "code",
   "execution_count": 8,
   "metadata": {},
   "outputs": [
    {
     "data": {
      "text/plain": [
       "3.635529855475564e-05"
      ]
     },
     "execution_count": 8,
     "metadata": {},
     "output_type": "execute_result"
    }
   ],
   "source": [
    "mA-mT"
   ]
  },
  {
   "cell_type": "code",
   "execution_count": null,
   "metadata": {},
   "outputs": [],
   "source": []
  }
 ],
 "metadata": {
  "kernelspec": {
   "display_name": "Python 3",
   "language": "python",
   "name": "python3"
  },
  "language_info": {
   "codemirror_mode": {
    "name": "ipython",
    "version": 3
   },
   "file_extension": ".py",
   "mimetype": "text/x-python",
   "name": "python",
   "nbconvert_exporter": "python",
   "pygments_lexer": "ipython3",
   "version": "3.7.0"
  }
 },
 "nbformat": 4,
 "nbformat_minor": 2
}
